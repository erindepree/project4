{
 "cells": [
  {
   "cell_type": "markdown",
   "id": "45c10886-09de-4c08-a659-65ec3d577fba",
   "metadata": {},
   "source": [
    "# Project 4\n",
    "## Ridge & Lasso Model of Cold Wave Final against Unseen Data\n",
    "## Predicting Death"
   ]
  },
  {
   "cell_type": "markdown",
   "id": "9e7158f1-b7c8-41f1-a6e1-08428f12863a",
   "metadata": {},
   "source": [
    "---\n",
    "### Import Libraries"
   ]
  },
  {
   "cell_type": "code",
   "execution_count": 1,
   "id": "f04d3c71-3ac2-4633-881b-9d870bbc37e5",
   "metadata": {},
   "outputs": [],
   "source": [
    "# Standard Imports\n",
    "import pandas as pd\n",
    "import numpy as np\n",
    "import matplotlib.pyplot as plt\n",
    "import seaborn as sns\n",
    "import matplotlib.pyplot as plt\n",
    "\n",
    "# Imports for Modeling\n",
    "from sklearn.pipeline import Pipeline\n",
    "from sklearn.preprocessing import StandardScaler\n",
    "from sklearn.linear_model import LinearRegression\n",
    "from sklearn.linear_model import Ridge, Lasso\n",
    "from sklearn.model_selection import train_test_split, cross_val_score, GridSearchCV\n",
    "\n",
    "# Imports for Evaluation\n",
    "from sklearn import metrics\n",
    "from sklearn.metrics import r2_score, mean_squared_error, root_mean_squared_error, mean_absolute_error \n",
    "\n",
    "from warnings import filterwarnings\n",
    "filterwarnings('ignore')\n"
   ]
  },
  {
   "cell_type": "markdown",
   "id": "5af0fd78-2a63-4b29-bf6b-7cc68b3d5f93",
   "metadata": {},
   "source": [
    "### Read in Data"
   ]
  },
  {
   "cell_type": "code",
   "execution_count": 2,
   "id": "43672adf-ffc8-4b29-99cd-86fd52a4ae9b",
   "metadata": {},
   "outputs": [
    {
     "data": {
      "text/html": [
       "<div>\n",
       "<style scoped>\n",
       "    .dataframe tbody tr th:only-of-type {\n",
       "        vertical-align: middle;\n",
       "    }\n",
       "\n",
       "    .dataframe tbody tr th {\n",
       "        vertical-align: top;\n",
       "    }\n",
       "\n",
       "    .dataframe thead th {\n",
       "        text-align: right;\n",
       "    }\n",
       "</style>\n",
       "<table border=\"1\" class=\"dataframe\">\n",
       "  <thead>\n",
       "    <tr style=\"text-align: right;\">\n",
       "      <th></th>\n",
       "      <th>Unnamed: 0</th>\n",
       "      <th>country</th>\n",
       "      <th>subregion</th>\n",
       "      <th>region</th>\n",
       "      <th>location</th>\n",
       "      <th>temperature</th>\n",
       "      <th>start_year</th>\n",
       "      <th>start_month</th>\n",
       "      <th>total_deaths</th>\n",
       "      <th>start_date</th>\n",
       "      <th>end_date</th>\n",
       "      <th>duration_days</th>\n",
       "      <th>duration</th>\n",
       "      <th>latitude</th>\n",
       "      <th>longitude</th>\n",
       "      <th>delta_temp_C</th>\n",
       "      <th>delta_temp_std</th>\n",
       "    </tr>\n",
       "  </thead>\n",
       "  <tbody>\n",
       "    <tr>\n",
       "      <th>0</th>\n",
       "      <td>0</td>\n",
       "      <td>Afghanistan</td>\n",
       "      <td>Southern Asia</td>\n",
       "      <td>Asia</td>\n",
       "      <td>Hirat, Faryab, Jawzjan, Balkh, Samangan, Sar-e...</td>\n",
       "      <td>-25.0</td>\n",
       "      <td>2001</td>\n",
       "      <td>1</td>\n",
       "      <td>150.0</td>\n",
       "      <td>2001-01-31</td>\n",
       "      <td>2001-02-20</td>\n",
       "      <td>20 days</td>\n",
       "      <td>20</td>\n",
       "      <td>30.0</td>\n",
       "      <td>70.0</td>\n",
       "      <td>-24.856821</td>\n",
       "      <td>-8.561158</td>\n",
       "    </tr>\n",
       "    <tr>\n",
       "      <th>1</th>\n",
       "      <td>1</td>\n",
       "      <td>Poland</td>\n",
       "      <td>Eastern Europe</td>\n",
       "      <td>Europe</td>\n",
       "      <td>Dolnoslaskie, Kujawsko-Pomorskie, Lodzkie, Lub...</td>\n",
       "      <td>-25.0</td>\n",
       "      <td>2001</td>\n",
       "      <td>10</td>\n",
       "      <td>270.0</td>\n",
       "      <td>2001-10-10</td>\n",
       "      <td>2002-01-20</td>\n",
       "      <td>102 days</td>\n",
       "      <td>102</td>\n",
       "      <td>50.0</td>\n",
       "      <td>20.0</td>\n",
       "      <td>-15.941674</td>\n",
       "      <td>-4.306348</td>\n",
       "    </tr>\n",
       "    <tr>\n",
       "      <th>2</th>\n",
       "      <td>2</td>\n",
       "      <td>Poland</td>\n",
       "      <td>Eastern Europe</td>\n",
       "      <td>Europe</td>\n",
       "      <td>Dolnoslaskie, Kujawsko-Pomorskie, Lodzkie, Lub...</td>\n",
       "      <td>-25.0</td>\n",
       "      <td>2001</td>\n",
       "      <td>10</td>\n",
       "      <td>270.0</td>\n",
       "      <td>2001-10-10</td>\n",
       "      <td>2002-01-20</td>\n",
       "      <td>102 days</td>\n",
       "      <td>102</td>\n",
       "      <td>50.0</td>\n",
       "      <td>20.0</td>\n",
       "      <td>-15.941674</td>\n",
       "      <td>-4.306348</td>\n",
       "    </tr>\n",
       "    <tr>\n",
       "      <th>3</th>\n",
       "      <td>3</td>\n",
       "      <td>Peru</td>\n",
       "      <td>Latin America and the Caribbean</td>\n",
       "      <td>Americas</td>\n",
       "      <td>Ayacucho, Huancavelica, Tacna, Moquegua, Arequ...</td>\n",
       "      <td>-28.0</td>\n",
       "      <td>2003</td>\n",
       "      <td>7</td>\n",
       "      <td>339.0</td>\n",
       "      <td>2003-07-07</td>\n",
       "      <td>2003-08-15</td>\n",
       "      <td>39 days</td>\n",
       "      <td>39</td>\n",
       "      <td>-10.0</td>\n",
       "      <td>-70.0</td>\n",
       "      <td>-43.303703</td>\n",
       "      <td>-20.441972</td>\n",
       "    </tr>\n",
       "    <tr>\n",
       "      <th>4</th>\n",
       "      <td>4</td>\n",
       "      <td>South Africa</td>\n",
       "      <td>Sub-Saharan Africa</td>\n",
       "      <td>Africa</td>\n",
       "      <td>Gauteng, Eastern Cape provinces</td>\n",
       "      <td>0.0</td>\n",
       "      <td>2007</td>\n",
       "      <td>5</td>\n",
       "      <td>22.0</td>\n",
       "      <td>2007-05-21</td>\n",
       "      <td>2007-05-27</td>\n",
       "      <td>6 days</td>\n",
       "      <td>6</td>\n",
       "      <td>-30.0</td>\n",
       "      <td>30.0</td>\n",
       "      <td>-1.690848</td>\n",
       "      <td>-0.672643</td>\n",
       "    </tr>\n",
       "  </tbody>\n",
       "</table>\n",
       "</div>"
      ],
      "text/plain": [
       "   Unnamed: 0       country                        subregion    region  \\\n",
       "0           0   Afghanistan                    Southern Asia      Asia   \n",
       "1           1        Poland                   Eastern Europe    Europe   \n",
       "2           2        Poland                   Eastern Europe    Europe   \n",
       "3           3          Peru  Latin America and the Caribbean  Americas   \n",
       "4           4  South Africa               Sub-Saharan Africa    Africa   \n",
       "\n",
       "                                            location  temperature  start_year  \\\n",
       "0  Hirat, Faryab, Jawzjan, Balkh, Samangan, Sar-e...        -25.0        2001   \n",
       "1  Dolnoslaskie, Kujawsko-Pomorskie, Lodzkie, Lub...        -25.0        2001   \n",
       "2  Dolnoslaskie, Kujawsko-Pomorskie, Lodzkie, Lub...        -25.0        2001   \n",
       "3  Ayacucho, Huancavelica, Tacna, Moquegua, Arequ...        -28.0        2003   \n",
       "4                    Gauteng, Eastern Cape provinces          0.0        2007   \n",
       "\n",
       "   start_month  total_deaths  start_date    end_date duration_days  duration  \\\n",
       "0            1         150.0  2001-01-31  2001-02-20       20 days        20   \n",
       "1           10         270.0  2001-10-10  2002-01-20      102 days       102   \n",
       "2           10         270.0  2001-10-10  2002-01-20      102 days       102   \n",
       "3            7         339.0  2003-07-07  2003-08-15       39 days        39   \n",
       "4            5          22.0  2007-05-21  2007-05-27        6 days         6   \n",
       "\n",
       "   latitude  longitude  delta_temp_C  delta_temp_std  \n",
       "0      30.0       70.0    -24.856821       -8.561158  \n",
       "1      50.0       20.0    -15.941674       -4.306348  \n",
       "2      50.0       20.0    -15.941674       -4.306348  \n",
       "3     -10.0      -70.0    -43.303703      -20.441972  \n",
       "4     -30.0       30.0     -1.690848       -0.672643  "
      ]
     },
     "execution_count": 2,
     "metadata": {},
     "output_type": "execute_result"
    }
   ],
   "source": [
    "cold_final = pd.read_csv('../data/final/cold_final_dataset.csv')\n",
    "cold_final.head()"
   ]
  },
  {
   "cell_type": "code",
   "execution_count": 3,
   "id": "23ad37ce-6a2b-4751-9f94-30a5720b7f69",
   "metadata": {},
   "outputs": [
    {
     "name": "stdout",
     "output_type": "stream",
     "text": [
      "<class 'pandas.core.frame.DataFrame'>\n",
      "RangeIndex: 41 entries, 0 to 40\n",
      "Data columns (total 17 columns):\n",
      " #   Column          Non-Null Count  Dtype  \n",
      "---  ------          --------------  -----  \n",
      " 0   Unnamed: 0      41 non-null     int64  \n",
      " 1   country         41 non-null     object \n",
      " 2   subregion       41 non-null     object \n",
      " 3   region          41 non-null     object \n",
      " 4   location        40 non-null     object \n",
      " 5   temperature     41 non-null     float64\n",
      " 6   start_year      41 non-null     int64  \n",
      " 7   start_month     41 non-null     int64  \n",
      " 8   total_deaths    41 non-null     float64\n",
      " 9   start_date      41 non-null     object \n",
      " 10  end_date        41 non-null     object \n",
      " 11  duration_days   41 non-null     object \n",
      " 12  duration        41 non-null     int64  \n",
      " 13  latitude        41 non-null     float64\n",
      " 14  longitude       41 non-null     float64\n",
      " 15  delta_temp_C    41 non-null     float64\n",
      " 16  delta_temp_std  41 non-null     float64\n",
      "dtypes: float64(6), int64(4), object(7)\n",
      "memory usage: 5.6+ KB\n"
     ]
    }
   ],
   "source": [
    "cold_final.info()"
   ]
  },
  {
   "cell_type": "markdown",
   "id": "a0c874a8-94a4-459a-b959-6ad8052f382c",
   "metadata": {},
   "source": [
    "### Lasso Ridge Model that Performed the best with Cold_final.csv\n",
    "```features = ['temperature', 'duration', 'latitude', 'longitude', 'delta_temp_std']\n",
    "X = cold_final[features]\n",
    "y = cold_final['total_deaths']\n",
    "fit_and_evaluate_ridge_lasso(cold_final, X, y, alpha_range = np.logspace(-4, 4, 50))```"
   ]
  },
  {
   "cell_type": "markdown",
   "id": "da0ca7a5-e20e-4362-9a72-57bb15cdec90",
   "metadata": {},
   "source": [
    "### Now will Adjust function to run on unseen data"
   ]
  },
  {
   "cell_type": "code",
   "execution_count": 4,
   "id": "59cb27ba-4094-41cc-be7e-b5542ce189ea",
   "metadata": {},
   "outputs": [],
   "source": [
    "def fit_and_evaluate_ridge_lasso_on_unseen(train_df, unseen_df, X, y, test_size=0.2, random_state=42, cv=5, alpha_range=None, plot=True):\n",
    "    \"\"\"\n",
    "    train_df : pandas.DataFrame\n",
    "        The full training frame with all columns available\n",
    "    unseen_df: pandas.DataFrame\n",
    "        The unseen test frame w/all columns available \n",
    "    X : array-like or list of column names\n",
    "        Features matrix or names; can be a DataFrame already or a list of columns to select from train_df\n",
    "    y : array-like or column name\n",
    "        Target vector or single column name\n",
    "    \n",
    "    Returns:\n",
    "        models: dict of fitted GridSearchCV objects\n",
    "        results: dict of evaluation metrics (R2, MAE, MSE, RMSE)\n",
    "    \"\"\"\n",
    "\n",
    "    if alpha_range is None:\n",
    "        alpha_range = np.logspace(-4, 4, 30)  # Default grid\n",
    "\n",
    "    # If X and y are column names, pull them from train_df\n",
    "    if isinstance(X, list) and isinstance(train_df, pd.DataFrame):\n",
    "        X_data = train_df[X]\n",
    "    else:\n",
    "        X_data = X\n",
    "    if isinstance(y, str) and isinstance(train_df, pd.DataFrame):\n",
    "        y_data = train_df[y]\n",
    "    else:\n",
    "        y_data = y\n",
    "\n",
    "    # Split data\n",
    "    X_train, X_test, y_train, y_test = train_test_split(\n",
    "        X_data, y_data, test_size=test_size, random_state=random_state)\n",
    "\n",
    "    # Ridge and Lasso Pipelines\n",
    "    ridge_pipe = Pipeline([\n",
    "        (\"scaler\", StandardScaler()),\n",
    "        (\"regressor\", Ridge())\n",
    "    ])\n",
    "    lasso_pipe = Pipeline([\n",
    "        (\"scaler\", StandardScaler()),\n",
    "        (\"regressor\", Lasso(max_iter=10000))\n",
    "    ])\n",
    "    param_grid = {\"regressor__alpha\": alpha_range}\n",
    "    ridge_gs = GridSearchCV(ridge_pipe, param_grid, cv=cv, scoring='r2')\n",
    "    lasso_gs = GridSearchCV(lasso_pipe, param_grid, cv=cv, scoring='r2')\n",
    "\n",
    "    pipelines = {\"Ridge (GridSearchCV)\": ridge_gs, \"Lasso (GridSearchCV)\": lasso_gs}\n",
    "    results = {}\n",
    "    models = {}\n",
    "    unseen_preds = {}\n",
    "    \n",
    "    for name, gs in pipelines.items():\n",
    "        gs.fit(X_train, y_train)\n",
    "        best_alpha = gs.best_params_[\"regressor__alpha\"]\n",
    "        print(f\"{name} best alpha: {best_alpha:.5f}\")\n",
    "        \n",
    "        y_train_pred = gs.predict(X_train)\n",
    "        y_test_pred = gs.predict(X_test)\n",
    "        # Scores and evaluation\n",
    "        train_r2 = r2_score(y_train, y_train_pred)\n",
    "        test_r2 = r2_score(y_test, y_test_pred)\n",
    "        cv_score = cross_val_score(gs.best_estimator_, X_train, y_train, cv=cv, scoring='r2').mean()\n",
    "        print(f\"{name} Training R2 Score: {train_r2:.3f}\")\n",
    "        print(f\"{name} Test R2 Score: {test_r2:.3f}\")\n",
    "        print(f\"{name} Cross Val Score (R2): {cv_score:.3f}\")\n",
    "\n",
    "        # Metrics\n",
    "        results[name] = {\n",
    "            \"Best Alpha\": best_alpha,\n",
    "            \"Train R2\": train_r2,\n",
    "            \"Test R2\": test_r2,\n",
    "            \"CV R2\": cv_score,\n",
    "            \"MAE\": mean_absolute_error(y_test, y_test_pred),\n",
    "            \"MSE\": mean_squared_error(y_test, y_test_pred),\n",
    "            \"RMSE\": np.sqrt(mean_squared_error(y_test, y_test_pred))\n",
    "        }\n",
    "        models[name] = gs\n",
    "\n",
    "        if plot:\n",
    "            plt.figure(figsize=(5,3))\n",
    "            plt.scatter(y_test, y_test_pred, color='maroon', alpha=0.7, edgecolor='k')\n",
    "            plt.xlabel(\"Actual Deaths\")\n",
    "            plt.ylabel(\"Predicted Deaths\")\n",
    "            plt.title(f\"Actual vs Predicted Deaths (Test)- {name}\")\n",
    "            plt.tight_layout()\n",
    "            plt.show()\n",
    "            plt.savefig(\"../images/ridge_lasso_predicted_death_vs_actual.jpg\")\n",
    "    \n",
    "            plt.figure(figsize=(5,3))\n",
    "            residuals = y_test - y_test_pred\n",
    "            plt.hist(residuals, bins=30, color='maroon')\n",
    "            plt.title(f\"Residuals Histogram (Test)- {name}\")\n",
    "            plt.xlabel(\"Residuals (Actual - Predicted Deaths)\")\n",
    "            plt.show()\n",
    "            plt.savefig(\"../images/ridge_lasso_predicted_residual.jpg\")\n",
    "            \n",
    "        # --- IF UNSEEN DATA IS PROVIDED, RUN PREDICTIONS & PLOTS ---\n",
    "        if unseen_df is not None:\n",
    "            if isinstance(X, list):\n",
    "                X_unseen = unseen_df[X]\n",
    "            else:\n",
    "                X_unseen = unseen_df\n",
    "            y_unseen_pred = gs.predict(X_unseen)\n",
    "            unseen_preds[name] = y_unseen_pred\n",
    "            # Display predictions\n",
    "            print(f\"\\n{name} predictions on unseen data (first 10):\\n\", pd.DataFrame(y_unseen_pred[:10]))\n",
    "            print('')\n",
    "\n",
    "    plt.figure(figsize=(5,3))\n",
    "    plt.hist(unseen_preds[\"Ridge (GridSearchCV)\"], bins=30, alpha=0.7, label=\"Ridge\", color='royalblue')\n",
    "    plt.hist(unseen_preds[\"Lasso (GridSearchCV)\"], bins=30, alpha=0.7, label=\"Lasso\", color='red')\n",
    "    plt.xlabel(\"Predicted Deaths\")\n",
    "    plt.ylabel(\"Count\")\n",
    "    plt.title(\"Distribution of Predicted Deaths on Unseen Data\")\n",
    "    plt.legend()\n",
    "    plt.tight_layout()\n",
    "    plt.show()\n",
    "    plt.savefig(\"../images/ridge_lasso_predicted_death.jpg\")\n",
    "\n",
    "    # Append to unseen_df\n",
    "    unseen_df[\"pred_total_deaths_ridge\"] = unseen_preds[\"Ridge (GridSearchCV)\"]\n",
    "    unseen_df[\"pred_total_deaths_lasso\"] = unseen_preds[\"Lasso (GridSearchCV)\"]\n",
    "    \n",
    "    # Example: plot predicted deaths vs. temperature\n",
    "    plt.figure(figsize=(5,3))\n",
    "    plt.scatter(unseen_df['temperature'], unseen_df['pred_total_deaths_ridge'], alpha=0.7, label=\"Ridge\", color='royalblue')\n",
    "    plt.scatter(unseen_df['temperature'], unseen_df['pred_total_deaths_lasso'], alpha=0.7, label=\"Lasso\", color='red')\n",
    "    plt.xlabel(\"Temperature\")\n",
    "    plt.ylabel(\"Predicted Deaths\")\n",
    "    plt.title(\"Predicted Deaths vs. Temperature (Unseen Data)\")\n",
    "    plt.legend()\n",
    "    plt.tight_layout()\n",
    "    plt.show()\n",
    "    plt.savefig(\"../images/ridge_lasso_predicted_death_vs_temp.jpg\")\n",
    "\n",
    "    # Example: plot predicted deaths vs. duration\n",
    "    plt.figure(figsize=(5,3))\n",
    "    plt.scatter(unseen_df['duration'], unseen_df['pred_total_deaths_ridge'], alpha=0.7, label=\"Ridge\", color='royalblue')\n",
    "    plt.scatter(unseen_df['duration'], unseen_df['pred_total_deaths_lasso'], alpha=0.7, label=\"Lasso\", color='red')\n",
    "    plt.xlabel(\"Duration\")\n",
    "    plt.ylabel(\"Predicted Deaths\")\n",
    "    plt.title(\"Predicted Deaths vs. Duration (Unseen Data)\")\n",
    "    plt.legend()\n",
    "    plt.tight_layout()\n",
    "    plt.show()\n",
    "    plt.savefig(\"../images/ridge_lasso_predicted_death_vs_duration.jpg\")\n",
    "    \n",
    "    # Example: plot predicted deaths vs. delta_temp_std_\n",
    "    plt.figure(figsize=(5,3))\n",
    "    plt.scatter(unseen_df['delta_temp_std'], unseen_df['pred_total_deaths_ridge'], alpha=0.7, label=\"Ridge\", color='royalblue')\n",
    "    plt.scatter(unseen_df['delta_temp_std'], unseen_df['pred_total_deaths_lasso'], alpha=0.7, label=\"Lasso\", color='red')\n",
    "    plt.xlabel(\"Delta_Temp_std\")\n",
    "    plt.ylabel(\"Predicted Deaths\")\n",
    "    plt.title(\"Predicted Deaths vs. Delta Temp Std (Unseen Data)\")\n",
    "    plt.legend()\n",
    "    plt.tight_layout()\n",
    "    plt.show()\n",
    "    plt.savefig(\"../images/ridge_lasso_predicted_death_vs_delta_temp_std.jpg\")\n",
    "\n",
    "    print(\"\\nEvaluation metrics summary:\")\n",
    "\n",
    "    return pd.DataFrame(results)"
   ]
  },
  {
   "cell_type": "markdown",
   "id": "405d2815-cc25-4682-b596-635561842449",
   "metadata": {},
   "source": [
    "### Read in the Unseen Data, in this case cold_events.csv"
   ]
  },
  {
   "cell_type": "code",
   "execution_count": 5,
   "id": "75e1d93e-0016-4f5e-b593-2dadb4f38244",
   "metadata": {},
   "outputs": [],
   "source": [
    "cold_events = pd.read_csv('../data/final/cold_events_final.csv')"
   ]
  },
  {
   "cell_type": "code",
   "execution_count": 6,
   "id": "4f6f6356-711c-48db-8aae-a085321051ca",
   "metadata": {},
   "outputs": [
    {
     "data": {
      "text/html": [
       "<div>\n",
       "<style scoped>\n",
       "    .dataframe tbody tr th:only-of-type {\n",
       "        vertical-align: middle;\n",
       "    }\n",
       "\n",
       "    .dataframe tbody tr th {\n",
       "        vertical-align: top;\n",
       "    }\n",
       "\n",
       "    .dataframe thead th {\n",
       "        text-align: right;\n",
       "    }\n",
       "</style>\n",
       "<table border=\"1\" class=\"dataframe\">\n",
       "  <thead>\n",
       "    <tr style=\"text-align: right;\">\n",
       "      <th></th>\n",
       "      <th>Unnamed: 0</th>\n",
       "      <th>start_date</th>\n",
       "      <th>start_month</th>\n",
       "      <th>latitude</th>\n",
       "      <th>longitude</th>\n",
       "      <th>duration</th>\n",
       "      <th>max</th>\n",
       "      <th>min</th>\n",
       "      <th>min_mean</th>\n",
       "      <th>min_std</th>\n",
       "      <th>min_extreme</th>\n",
       "      <th>delta_min_mean_C</th>\n",
       "      <th>delta_min_mean_std</th>\n",
       "      <th>delta_min_extreme_C</th>\n",
       "      <th>delta_min_extreme_std</th>\n",
       "    </tr>\n",
       "  </thead>\n",
       "  <tbody>\n",
       "    <tr>\n",
       "      <th>0</th>\n",
       "      <td>0</td>\n",
       "      <td>2023-06-01 06:00:00</td>\n",
       "      <td>6</td>\n",
       "      <td>70</td>\n",
       "      <td>-70</td>\n",
       "      <td>2</td>\n",
       "      <td>-6.115940</td>\n",
       "      <td>-12.381075</td>\n",
       "      <td>-2.367532</td>\n",
       "      <td>3.352045</td>\n",
       "      <td>-10.747645</td>\n",
       "      <td>-10.013543</td>\n",
       "      <td>-2.987294</td>\n",
       "      <td>-1.633430</td>\n",
       "      <td>-0.487294</td>\n",
       "    </tr>\n",
       "    <tr>\n",
       "      <th>1</th>\n",
       "      <td>1</td>\n",
       "      <td>2023-06-02 06:00:00</td>\n",
       "      <td>6</td>\n",
       "      <td>70</td>\n",
       "      <td>-70</td>\n",
       "      <td>2</td>\n",
       "      <td>-6.115940</td>\n",
       "      <td>-12.381075</td>\n",
       "      <td>-2.367532</td>\n",
       "      <td>3.352045</td>\n",
       "      <td>-10.747645</td>\n",
       "      <td>-10.013543</td>\n",
       "      <td>-2.987294</td>\n",
       "      <td>-1.633430</td>\n",
       "      <td>-0.487294</td>\n",
       "    </tr>\n",
       "    <tr>\n",
       "      <th>2</th>\n",
       "      <td>2</td>\n",
       "      <td>2021-01-03 06:00:00</td>\n",
       "      <td>1</td>\n",
       "      <td>50</td>\n",
       "      <td>80</td>\n",
       "      <td>3</td>\n",
       "      <td>-30.761673</td>\n",
       "      <td>-38.225050</td>\n",
       "      <td>-15.933864</td>\n",
       "      <td>7.807499</td>\n",
       "      <td>-35.452612</td>\n",
       "      <td>-22.291186</td>\n",
       "      <td>-2.855099</td>\n",
       "      <td>-2.772438</td>\n",
       "      <td>-0.355099</td>\n",
       "    </tr>\n",
       "    <tr>\n",
       "      <th>3</th>\n",
       "      <td>3</td>\n",
       "      <td>2021-01-04 06:00:00</td>\n",
       "      <td>1</td>\n",
       "      <td>50</td>\n",
       "      <td>80</td>\n",
       "      <td>3</td>\n",
       "      <td>-30.761673</td>\n",
       "      <td>-38.225050</td>\n",
       "      <td>-15.933864</td>\n",
       "      <td>7.807499</td>\n",
       "      <td>-35.452612</td>\n",
       "      <td>-22.291186</td>\n",
       "      <td>-2.855099</td>\n",
       "      <td>-2.772438</td>\n",
       "      <td>-0.355099</td>\n",
       "    </tr>\n",
       "    <tr>\n",
       "      <th>4</th>\n",
       "      <td>4</td>\n",
       "      <td>2021-01-05 06:00:00</td>\n",
       "      <td>1</td>\n",
       "      <td>50</td>\n",
       "      <td>80</td>\n",
       "      <td>3</td>\n",
       "      <td>-30.761673</td>\n",
       "      <td>-38.225050</td>\n",
       "      <td>-15.933864</td>\n",
       "      <td>7.807499</td>\n",
       "      <td>-35.452612</td>\n",
       "      <td>-22.291186</td>\n",
       "      <td>-2.855099</td>\n",
       "      <td>-2.772438</td>\n",
       "      <td>-0.355099</td>\n",
       "    </tr>\n",
       "  </tbody>\n",
       "</table>\n",
       "</div>"
      ],
      "text/plain": [
       "   Unnamed: 0           start_date  start_month  latitude  longitude  \\\n",
       "0           0  2023-06-01 06:00:00            6        70        -70   \n",
       "1           1  2023-06-02 06:00:00            6        70        -70   \n",
       "2           2  2021-01-03 06:00:00            1        50         80   \n",
       "3           3  2021-01-04 06:00:00            1        50         80   \n",
       "4           4  2021-01-05 06:00:00            1        50         80   \n",
       "\n",
       "   duration        max        min   min_mean   min_std  min_extreme  \\\n",
       "0         2  -6.115940 -12.381075  -2.367532  3.352045   -10.747645   \n",
       "1         2  -6.115940 -12.381075  -2.367532  3.352045   -10.747645   \n",
       "2         3 -30.761673 -38.225050 -15.933864  7.807499   -35.452612   \n",
       "3         3 -30.761673 -38.225050 -15.933864  7.807499   -35.452612   \n",
       "4         3 -30.761673 -38.225050 -15.933864  7.807499   -35.452612   \n",
       "\n",
       "   delta_min_mean_C  delta_min_mean_std  delta_min_extreme_C  \\\n",
       "0        -10.013543           -2.987294            -1.633430   \n",
       "1        -10.013543           -2.987294            -1.633430   \n",
       "2        -22.291186           -2.855099            -2.772438   \n",
       "3        -22.291186           -2.855099            -2.772438   \n",
       "4        -22.291186           -2.855099            -2.772438   \n",
       "\n",
       "   delta_min_extreme_std  \n",
       "0              -0.487294  \n",
       "1              -0.487294  \n",
       "2              -0.355099  \n",
       "3              -0.355099  \n",
       "4              -0.355099  "
      ]
     },
     "execution_count": 6,
     "metadata": {},
     "output_type": "execute_result"
    }
   ],
   "source": [
    "cold_events.head()"
   ]
  },
  {
   "cell_type": "code",
   "execution_count": 7,
   "id": "6b1493b8-26e5-4d4e-975f-543b387994e1",
   "metadata": {},
   "outputs": [
    {
     "name": "stdout",
     "output_type": "stream",
     "text": [
      "<bound method IndexOpsMixin.tolist of Index(['Unnamed: 0', 'start_date', 'start_month', 'latitude', 'longitude',\n",
      "       'duration', 'max', 'min', 'min_mean', 'min_std', 'min_extreme',\n",
      "       'delta_min_mean_C', 'delta_min_mean_std', 'delta_min_extreme_C',\n",
      "       'delta_min_extreme_std'],\n",
      "      dtype='object')>\n"
     ]
    }
   ],
   "source": [
    "print(cold_events.columns.tolist)"
   ]
  },
  {
   "cell_type": "code",
   "execution_count": 8,
   "id": "1360e847-b903-4830-965e-bc47d1bd7ab8",
   "metadata": {},
   "outputs": [
    {
     "data": {
      "text/html": [
       "<div>\n",
       "<style scoped>\n",
       "    .dataframe tbody tr th:only-of-type {\n",
       "        vertical-align: middle;\n",
       "    }\n",
       "\n",
       "    .dataframe tbody tr th {\n",
       "        vertical-align: top;\n",
       "    }\n",
       "\n",
       "    .dataframe thead th {\n",
       "        text-align: right;\n",
       "    }\n",
       "</style>\n",
       "<table border=\"1\" class=\"dataframe\">\n",
       "  <thead>\n",
       "    <tr style=\"text-align: right;\">\n",
       "      <th></th>\n",
       "      <th>temperature</th>\n",
       "      <th>duration</th>\n",
       "      <th>latitude</th>\n",
       "      <th>longitude</th>\n",
       "      <th>delta_temp_std</th>\n",
       "    </tr>\n",
       "  </thead>\n",
       "  <tbody>\n",
       "    <tr>\n",
       "      <th>0</th>\n",
       "      <td>-12.381075</td>\n",
       "      <td>2</td>\n",
       "      <td>70</td>\n",
       "      <td>-70</td>\n",
       "      <td>-0.487294</td>\n",
       "    </tr>\n",
       "    <tr>\n",
       "      <th>1</th>\n",
       "      <td>-12.381075</td>\n",
       "      <td>2</td>\n",
       "      <td>70</td>\n",
       "      <td>-70</td>\n",
       "      <td>-0.487294</td>\n",
       "    </tr>\n",
       "  </tbody>\n",
       "</table>\n",
       "</div>"
      ],
      "text/plain": [
       "   temperature  duration  latitude  longitude  delta_temp_std\n",
       "0   -12.381075         2        70        -70       -0.487294\n",
       "1   -12.381075         2        70        -70       -0.487294"
      ]
     },
     "execution_count": 8,
     "metadata": {},
     "output_type": "execute_result"
    }
   ],
   "source": [
    "cold_events_new = cold_events[['min', 'duration', 'latitude', 'longitude', 'delta_min_extreme_std']]\n",
    "cold_events_renamed = cold_events_new.rename(columns={'min' : 'temperature', 'delta_min_extreme_std' : 'delta_temp_std'})\n",
    "cold_events_renamed.head(2)"
   ]
  },
  {
   "cell_type": "markdown",
   "id": "c1ec2fda-acf7-4160-9b14-aa4dec6e340f",
   "metadata": {},
   "source": [
    "### Run the adjusted function\n",
    "THERE IS NO TOTAL DEATHS IN COLD_EVENTS, so no comparison to \"ground truth\""
   ]
  },
  {
   "cell_type": "code",
   "execution_count": 9,
   "id": "7086f883-edc2-4863-acc2-989f5f507908",
   "metadata": {},
   "outputs": [
    {
     "name": "stdout",
     "output_type": "stream",
     "text": [
      "Ridge (GridSearchCV) best alpha: 11.51395\n",
      "Ridge (GridSearchCV) Training R2 Score: 0.664\n",
      "Ridge (GridSearchCV) Test R2 Score: -0.424\n",
      "Ridge (GridSearchCV) Cross Val Score (R2): -0.074\n"
     ]
    },
    {
     "data": {
      "image/png": "[encoded data removed]",
      "text/plain": [
       "<Figure size 500x300 with 1 Axes>"
      ]
     },
     "metadata": {},
     "output_type": "display_data"
    },
    {
     "data": {
      "text/plain": [
       "<Figure size 640x480 with 0 Axes>"
      ]
     },
     "metadata": {},
     "output_type": "display_data"
    },
    {
     "data": {
      "image/png": "[encoded data removed]",
      "text/plain": [
       "<Figure size 500x300 with 1 Axes>"
      ]
     },
     "metadata": {},
     "output_type": "display_data"
    },
    {
     "name": "stdout",
     "output_type": "stream",
     "text": [
      "\n",
      "Ridge (GridSearchCV) predictions on unseen data (first 10):\n",
      "            0\n",
      "0  13.532337\n",
      "1  13.532337\n",
      "2  34.454835\n",
      "3  34.454835\n",
      "4  34.454835\n",
      "5  -7.249519\n",
      "6  -7.249519\n",
      "7  33.986678\n",
      "8  33.986678\n",
      "9  33.986678\n",
      "\n",
      "Lasso (GridSearchCV) best alpha: 24.42053\n",
      "Lasso (GridSearchCV) Training R2 Score: 0.550\n",
      "Lasso (GridSearchCV) Test R2 Score: -0.431\n",
      "Lasso (GridSearchCV) Cross Val Score (R2): 0.179\n"
     ]
    },
    {
     "data": {
      "text/plain": [
       "<Figure size 640x480 with 0 Axes>"
      ]
     },
     "metadata": {},
     "output_type": "display_data"
    },
    {
     "data": {
      "image/png": "[encoded data removed]",
      "text/plain": [
       "<Figure size 500x300 with 1 Axes>"
      ]
     },
     "metadata": {},
     "output_type": "display_data"
    },
    {
     "data": {
      "text/plain": [
       "<Figure size 640x480 with 0 Axes>"
      ]
     },
     "metadata": {},
     "output_type": "display_data"
    },
    {
     "data": {
      "image/png": "[encoded data removed]",
      "text/plain": [
       "<Figure size 500x300 with 1 Axes>"
      ]
     },
     "metadata": {},
     "output_type": "display_data"
    },
    {
     "name": "stdout",
     "output_type": "stream",
     "text": [
      "\n",
      "Lasso (GridSearchCV) predictions on unseen data (first 10):\n",
      "            0\n",
      "0  44.105277\n",
      "1  44.105277\n",
      "2  45.693165\n",
      "3  45.693165\n",
      "4  45.693165\n",
      "5  44.193723\n",
      "6  44.193723\n",
      "7  47.667240\n",
      "8  47.667240\n",
      "9  47.667240\n",
      "\n"
     ]
    },
    {
     "data": {
      "text/plain": [
       "<Figure size 640x480 with 0 Axes>"
      ]
     },
     "metadata": {},
     "output_type": "display_data"
    },
    {
     "data": {
      "image/png": "[encoded data removed]",
      "text/plain": [
       "<Figure size 500x300 with 1 Axes>"
      ]
     },
     "metadata": {},
     "output_type": "display_data"
    },
    {
     "data": {
      "text/plain": [
       "<Figure size 640x480 with 0 Axes>"
      ]
     },
     "metadata": {},
     "output_type": "display_data"
    },
    {
     "data": {
      "image/png": "[encoded data removed]",
      "text/plain": [
       "<Figure size 500x300 with 1 Axes>"
      ]
     },
     "metadata": {},
     "output_type": "display_data"
    },
    {
     "data": {
      "text/plain": [
       "<Figure size 640x480 with 0 Axes>"
      ]
     },
     "metadata": {},
     "output_type": "display_data"
    },
    {
     "data": {
      "image/png": "[encoded data removed]",
      "text/plain": [
       "<Figure size 500x300 with 1 Axes>"
      ]
     },
     "metadata": {},
     "output_type": "display_data"
    },
    {
     "data": {
      "text/plain": [
       "<Figure size 640x480 with 0 Axes>"
      ]
     },
     "metadata": {},
     "output_type": "display_data"
    },
    {
     "data": {
      "image/png": "[encoded data removed]",
      "text/plain": [
       "<Figure size 500x300 with 1 Axes>"
      ]
     },
     "metadata": {},
     "output_type": "display_data"
    },
    {
     "name": "stdout",
     "output_type": "stream",
     "text": [
      "\n",
      "Evaluation metrics summary:\n"
     ]
    },
    {
     "data": {
      "text/html": [
       "<div>\n",
       "<style scoped>\n",
       "    .dataframe tbody tr th:only-of-type {\n",
       "        vertical-align: middle;\n",
       "    }\n",
       "\n",
       "    .dataframe tbody tr th {\n",
       "        vertical-align: top;\n",
       "    }\n",
       "\n",
       "    .dataframe thead th {\n",
       "        text-align: right;\n",
       "    }\n",
       "</style>\n",
       "<table border=\"1\" class=\"dataframe\">\n",
       "  <thead>\n",
       "    <tr style=\"text-align: right;\">\n",
       "      <th></th>\n",
       "      <th>Ridge (GridSearchCV)</th>\n",
       "      <th>Lasso (GridSearchCV)</th>\n",
       "    </tr>\n",
       "  </thead>\n",
       "  <tbody>\n",
       "    <tr>\n",
       "      <th>Best Alpha</th>\n",
       "      <td>11.513954</td>\n",
       "      <td>24.420531</td>\n",
       "    </tr>\n",
       "    <tr>\n",
       "      <th>Train R2</th>\n",
       "      <td>0.664363</td>\n",
       "      <td>0.549642</td>\n",
       "    </tr>\n",
       "    <tr>\n",
       "      <th>Test R2</th>\n",
       "      <td>-0.424288</td>\n",
       "      <td>-0.431328</td>\n",
       "    </tr>\n",
       "    <tr>\n",
       "      <th>CV R2</th>\n",
       "      <td>-0.074033</td>\n",
       "      <td>0.178545</td>\n",
       "    </tr>\n",
       "    <tr>\n",
       "      <th>MAE</th>\n",
       "      <td>54.346048</td>\n",
       "      <td>55.392709</td>\n",
       "    </tr>\n",
       "    <tr>\n",
       "      <th>MSE</th>\n",
       "      <td>3675.963356</td>\n",
       "      <td>3694.132968</td>\n",
       "    </tr>\n",
       "    <tr>\n",
       "      <th>RMSE</th>\n",
       "      <td>60.629723</td>\n",
       "      <td>60.779379</td>\n",
       "    </tr>\n",
       "  </tbody>\n",
       "</table>\n",
       "</div>"
      ],
      "text/plain": [
       "            Ridge (GridSearchCV)  Lasso (GridSearchCV)\n",
       "Best Alpha             11.513954             24.420531\n",
       "Train R2                0.664363              0.549642\n",
       "Test R2                -0.424288             -0.431328\n",
       "CV R2                  -0.074033              0.178545\n",
       "MAE                    54.346048             55.392709\n",
       "MSE                  3675.963356           3694.132968\n",
       "RMSE                   60.629723             60.779379"
      ]
     },
     "execution_count": 9,
     "metadata": {},
     "output_type": "execute_result"
    },
    {
     "data": {
      "text/plain": [
       "<Figure size 640x480 with 0 Axes>"
      ]
     },
     "metadata": {},
     "output_type": "display_data"
    }
   ],
   "source": [
    "features = ['temperature', 'duration', 'latitude', 'longitude', 'delta_temp_std']\n",
    "X = features\n",
    "y = 'total_deaths'\n",
    "\n",
    "fit_and_evaluate_ridge_lasso_on_unseen(cold_final, cold_events_renamed, X, y, alpha_range = np.logspace(-4, 4, 50))"
   ]
  },
  {
   "cell_type": "markdown",
   "id": "3a644eff-16c7-4ab4-8f00-240629314425",
   "metadata": {},
   "source": [
    "---\n",
    "## Conclusion\n",
    "#### Again confirmation that Ridge and Lasso did not make for very good models.\n",
    "\n",
    "To test the unseen test data, we used Model 6, whereby the:\n",
    "Features are temperature, duration, latitude, longitude, delta_temp_std.\n",
    "Alpha range is log(-4,, 4, 50)\n"
   ]
  },
  {
   "cell_type": "code",
   "execution_count": null,
   "id": "196b6cdc-a51b-4bae-9bdf-6e533e0b3550",
   "metadata": {},
   "outputs": [],
   "source": []
  }
 ],
 "metadata": {
  "kernelspec": {
   "display_name": "Python 3 (ipykernel)",
   "language": "python",
   "name": "python3"
  },
  "language_info": {
   "codemirror_mode": {
    "name": "ipython",
    "version": 3
   },
   "file_extension": ".py",
   "mimetype": "text/x-python",
   "name": "python",
   "nbconvert_exporter": "python",
   "pygments_lexer": "ipython3",
   "version": "3.11.9"
  }
 },
 "nbformat": 4,
 "nbformat_minor": 5
}
