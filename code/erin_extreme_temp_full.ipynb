{
 "cells": [
  {
   "cell_type": "markdown",
   "id": "1387cf56-ede4-4e84-98ba-1c26af750a24",
   "metadata": {},
   "source": [
    "# Extreme Temperature Events -- Full Analysis"
   ]
  },
  {
   "cell_type": "code",
   "execution_count": null,
   "id": "07c8900a-2929-4ae1-97f5-b6c6d209ae56",
   "metadata": {},
   "outputs": [],
   "source": []
  },
  {
   "cell_type": "code",
   "execution_count": null,
   "id": "8a1f0efc-92e5-41b8-9fcd-b85116cbeb18",
   "metadata": {},
   "outputs": [],
   "source": []
  },
  {
   "cell_type": "code",
   "execution_count": null,
   "id": "054972f6-98fa-478d-b4e0-9de53ad13184",
   "metadata": {},
   "outputs": [],
   "source": []
  },
  {
   "cell_type": "code",
   "execution_count": null,
   "id": "3154d629-23ac-4ecc-aba9-70733c7726aa",
   "metadata": {},
   "outputs": [],
   "source": []
  },
  {
   "cell_type": "code",
   "execution_count": null,
   "id": "07117865-f807-47c5-add4-7f947e6a9383",
   "metadata": {},
   "outputs": [],
   "source": []
  },
  {
   "cell_type": "code",
   "execution_count": null,
   "id": "aa7b1b9c-3e5c-4ddc-855d-7c87e93c1a75",
   "metadata": {},
   "outputs": [],
   "source": []
  },
  {
   "cell_type": "code",
   "execution_count": null,
   "id": "a11dccef-6b97-4e18-a36b-679215ccc1c0",
   "metadata": {},
   "outputs": [],
   "source": []
  },
  {
   "cell_type": "code",
   "execution_count": null,
   "id": "a6b9ff44-29c9-4d3a-8f97-ff91059aed8e",
   "metadata": {},
   "outputs": [],
   "source": []
  }
 ],
 "metadata": {
  "kernelspec": {
   "display_name": "Python 3 (ipykernel)",
   "language": "python",
   "name": "python3"
  },
  "language_info": {
   "codemirror_mode": {
    "name": "ipython",
    "version": 3
   },
   "file_extension": ".py",
   "mimetype": "text/x-python",
   "name": "python",
   "nbconvert_exporter": "python",
   "pygments_lexer": "ipython3",
   "version": "3.11.9"
  }
 },
 "nbformat": 4,
 "nbformat_minor": 5
}
