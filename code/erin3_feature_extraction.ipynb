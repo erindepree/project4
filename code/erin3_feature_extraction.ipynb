{
 "cells": [
  {
   "cell_type": "markdown",
   "id": "1387cf56-ede4-4e84-98ba-1c26af750a24",
   "metadata": {},
   "source": [
    "# Extreme Temperature Events: Feature Extraction\n",
    "Erin De Pree"
   ]
  },
  {
   "cell_type": "markdown",
   "id": "f871fe8c-e7d6-497d-ba1a-9a909c724939",
   "metadata": {},
   "source": [
    "This notebook extracts features from the ERA5 temperature data."
   ]
  },
  {
   "cell_type": "code",
   "execution_count": 1,
   "id": "8b2b72b3-466e-4b6c-b402-cb91739d4c70",
   "metadata": {},
   "outputs": [],
   "source": [
    "import pandas as pd\n",
    "import numpy as np\n",
    "import os\n",
    "import warnings\n",
    "from pandas.errors import SettingWithCopyWarning\n",
    "\n",
    "from datetime import datetime"
   ]
  },
  {
   "cell_type": "markdown",
   "id": "f1f23ed1-96bf-4652-a53a-b628f12d6f2e",
   "metadata": {},
   "source": [
    "## Suppressing annoying notices"
   ]
  },
  {
   "cell_type": "code",
   "execution_count": 2,
   "id": "a0a6c93e-cc4f-4d61-a579-ed2036209d94",
   "metadata": {},
   "outputs": [],
   "source": [
    "warnings.simplefilter(action=\"ignore\", category=SettingWithCopyWarning)"
   ]
  },
  {
   "cell_type": "markdown",
   "id": "2ad38839-10c1-46e9-96bc-a94f3a3c69ee",
   "metadata": {},
   "source": [
    "## Functions"
   ]
  },
  {
   "cell_type": "code",
   "execution_count": 3,
   "id": "08c58863-b1fe-496d-89a2-4a518f9b71e7",
   "metadata": {},
   "outputs": [],
   "source": [
    "def monthly_temperatures(df):\n",
    "    \"\"\"\n",
    "    finds the monthly mean, standard deviation, and extreme temperatures for a dataframe of daily temperatures\n",
    "\n",
    "    parameters\n",
    "    ----------\n",
    "    df : DataFrame\n",
    "        daily entries of date, mean, maximum, and minimum temperature along with latitude and longitude\n",
    "\n",
    "    Returns\n",
    "    -------\n",
    "    big_df : DataFrame\n",
    "        with date column in datetime and an added month column, and the monthly min, max, mean, std, extreme temperatures\n",
    "    \"\"\"\n",
    "\n",
    "    lat = int(np.round(df.loc[0,'latitude']))\n",
    "    long = int(np.round(df.loc[0,'longitude']))\n",
    "\n",
    "    df = df.rename(columns = {'temp_max': 'max', 'temp_min': 'min'})\n",
    "    df['date'] = pd.to_datetime(df['date'])\n",
    "    df['month'] = df.apply(lambda row: row['date'].month, axis=1)\n",
    "\n",
    "    month_temp = df.groupby(by='month')[['max','min']].agg(['mean', 'std'])\n",
    "    month_temp['max', 'extreme'] = month_temp['max','mean'] + 2.5 * month_temp['max', 'std']\n",
    "    month_temp['min', 'extreme'] = month_temp['min','mean'] - 2.5 * month_temp['min', 'std']\n",
    "    month_temp.columns = ['_'.join(a) for a in month_temp.columns.to_flat_index()]\n",
    "    month_temp['latitude'] = lat\n",
    "    month_temp['longitude'] = long\n",
    "    \n",
    "    # month_temp.to_csv(f\"../data/processed/monthly/monthly_summary_lat={lat}_long={long}.csv\")\n",
    "\n",
    "    big_df = pd.merge(left=df.drop(columns=['latitude', 'longitude']), right=month_temp, on='month')\n",
    "\n",
    "    return big_df"
   ]
  },
  {
   "cell_type": "code",
   "execution_count": 4,
   "id": "96cd61a8-2a83-49cd-a5c7-55b4473757fd",
   "metadata": {},
   "outputs": [],
   "source": [
    "def find_cold_waves(df):\n",
    "    \"\"\"\n",
    "    takes a pands data frame and returns the cold waves\n",
    "\n",
    "    Parameters\n",
    "    ----------\n",
    "    df : DataFrame\n",
    "\n",
    "    Returns\n",
    "    -------\n",
    "    cold_extreme : DataFrame \n",
    "        Pandas dataframe of all cold events with start date, start month, latitude, longitude, average max, min, changes, etc\n",
    "        single row for each event\n",
    "    \"\"\"\n",
    "    # find the cold waves: start by identifying the days when the minimum temperature is below the extreme minimum temperature\n",
    "    cold_days = df[df['min'] <= df['min_extreme']]\n",
    "\n",
    "    # calculating the change in temperature from the average minimum and the extreme minimum in both \n",
    "    cold_days.loc[:,'delta_min_mean_C'] = cold_days.loc[:,'min'] - cold_days.loc[:,'min_mean']\n",
    "    cold_days.loc[:,'delta_min_mean_std'] = cold_days.loc[:,'delta_min_mean_C'] / cold_days.loc[:,'min_std']\n",
    "    cold_days.loc[:,'delta_min_extreme_C'] = cold_days.loc[:,'min'] - cold_days.loc[:,'min_extreme']\n",
    "    cold_days.loc[:,'delta_min_extreme_std'] = cold_days.loc[:,'delta_min_extreme_C'] / cold_days.loc[:,'min_std']\n",
    "\n",
    "    # identify events as consecutive days below extreme minimum and label them\n",
    "    cold_days.loc[:,'event_label'] = (cold_days.groupby(by=['latitude', 'longitude'])['date'].diff() != pd.Timedelta(days = 1)).cumsum()\n",
    "    cold_days.loc[:,'duration'] = cold_days.groupby(by='event_label')['date'].transform('count')\n",
    "    cold_days = cold_days.reset_index(drop=True)\n",
    "\n",
    "    # average temperatures for each event\n",
    "    event_means = cold_days.groupby(by='event_label')[[\n",
    "        'max', 'min', 'min_mean', 'min_std', 'min_extreme', \n",
    "        'delta_min_mean_C', 'delta_min_mean_std', \n",
    "        'delta_min_extreme_C', 'delta_min_extreme_std'\n",
    "    ]].mean()\n",
    "\n",
    "    # only want a single entry (or row) per event, not one for each day\n",
    "    cold_waves = cold_days[cold_days['duration'] > 1]\n",
    "    cold_waves = cold_waves.reset_index(drop=True)\n",
    "    \n",
    "    indices_keep = []\n",
    "    for event in cold_waves['event_label'].unique():\n",
    "        indices_keep.append(cold_waves[cold_waves['event_label']==event].index[0])\n",
    "\n",
    "    cold_extreme = pd.merge(\n",
    "        left=cold_waves[['date', 'month', 'latitude', 'longitude', 'duration', 'event_label']], \n",
    "        right=event_means, \n",
    "        on='event_label'\n",
    "    )\n",
    "\n",
    "    cold_extreme = cold_extreme.rename(columns = {'date': 'start_date', 'month': 'start_month'}).drop(columns=['event_label'])\n",
    "\n",
    "    return cold_extreme"
   ]
  },
  {
   "cell_type": "code",
   "execution_count": 5,
   "id": "7cf3aaf1-2c90-4a5e-8790-409d4bcac6a0",
   "metadata": {},
   "outputs": [],
   "source": [
    "def find_heat_waves(df):\n",
    "    \"\"\"\n",
    "    takes a pands data frame and returns the heat waves\n",
    "\n",
    "    Parameters\n",
    "    ----------\n",
    "    df : DataFrame\n",
    "\n",
    "    Returns\n",
    "    -------\n",
    "    heat_extreme : DataFrame \n",
    "        Pandas dataframe of all heat events with start date, start month, latitude, longitude, average max, min, changes, etc\n",
    "        single row for each event\n",
    "    \"\"\"\n",
    "    # find the cold waves: start by identifying the days when the minimum temperature is below the extreme minimum temperature\n",
    "    hot_days = df[df['max'] >= df['max_extreme']]\n",
    "\n",
    "    # calculating the change in temperature from the average minimum and the extreme minimum in both \n",
    "    hot_days.loc[:,'delta_max_mean_C'] = hot_days.loc[:,'max'] + hot_days.loc[:,'max_mean']\n",
    "    hot_days.loc[:,'delta_max_mean_std'] = hot_days.loc[:,'delta_max_mean_C'] / hot_days.loc[:,'max_std']\n",
    "    hot_days.loc[:,'delta_max_extreme_C'] = hot_days.loc[:,'max'] + hot_days.loc[:,'max_extreme']\n",
    "    hot_days.loc[:,'delta_max_extreme_std'] = hot_days.loc[:,'delta_max_extreme_C'] / hot_days.loc[:,'max_std']\n",
    "\n",
    "    # identify events as consecutive days below extreme minimum and label them\n",
    "    hot_days.loc[:,'event_label'] = (hot_days.groupby(by=['latitude', 'longitude'])['date'].diff() != pd.Timedelta(days = 1)).cumsum()\n",
    "    hot_days.loc[:,'duration'] = hot_days.groupby(by='event_label')['date'].transform('count')\n",
    "    hot_days = hot_days.reset_index(drop=True)\n",
    "\n",
    "    # average temperatures for each event\n",
    "    event_means = hot_days.groupby(by='event_label')[[\n",
    "        'max', 'min', 'max_mean', 'max_std', 'max_extreme', \n",
    "        'delta_max_mean_C', 'delta_max_mean_std', \n",
    "        'delta_max_extreme_C', 'delta_max_extreme_std'\n",
    "    ]].mean()\n",
    "\n",
    "    # only want a single entry (or row) per event, not one for each day\n",
    "    indices_keep = []\n",
    "    heat_waves = hot_days[hot_days['duration'] > 1]\n",
    "    heat_waves = heat_waves.reset_index(drop=True)\n",
    "\n",
    "    for event in heat_waves['event_label'].unique():\n",
    "        indices_keep.append(heat_waves[heat_waves['event_label']==event].index[0])\n",
    "\n",
    "    heat_extreme = pd.merge(\n",
    "        left=heat_waves[['date', 'month', 'latitude', 'longitude', 'duration', 'event_label']], \n",
    "        right=event_means, \n",
    "        on='event_label'\n",
    "    )\n",
    "\n",
    "    heat_extreme = heat_extreme.rename(columns = {'date': 'start_date', 'month': 'start_month'}).drop(columns=['event_label'])\n",
    "\n",
    "    return heat_extreme"
   ]
  },
  {
   "cell_type": "code",
   "execution_count": 6,
   "id": "b8d5da56-1f56-4966-a4a0-e9a41a4af2cd",
   "metadata": {},
   "outputs": [],
   "source": [
    "def find_extreme_temp_events(df):\n",
    "    \"\"\"\n",
    "    takes a pandas dataframe and returns the extreme temperature entries\n",
    "\n",
    "    Parameters\n",
    "    ----------\n",
    "    df : DataFrame\n",
    "        daily entries of date, mean daily temperature, maximum daily temperature, and minimum daily temperature\n",
    "        along with latitude and longitude\n",
    "\n",
    "    Returns\n",
    "    -------\n",
    "    final_data : DataFrame\n",
    "        entries of dates experiencing a heat or cold wave\n",
    "    \"\"\"\n",
    "        \n",
    "    data = monthly_temperatures(df)\n",
    "    \n",
    "    return find_cold_waves(data), find_heat_waves(data)"
   ]
  },
  {
   "cell_type": "markdown",
   "id": "b17bada3-7bee-4eeb-a53c-cddbcb0664fd",
   "metadata": {},
   "source": [
    "## Processing Data"
   ]
  },
  {
   "cell_type": "code",
   "execution_count": 7,
   "id": "07c8900a-2929-4ae1-97f5-b6c6d209ae56",
   "metadata": {},
   "outputs": [],
   "source": [
    "# get file list\n",
    "file_list = os.listdir('../data/processed/daily_temperature_grid')"
   ]
  },
  {
   "cell_type": "code",
   "execution_count": 8,
   "id": "ce743d59-a83f-460e-84c6-1c65dd679370",
   "metadata": {},
   "outputs": [],
   "source": [
    "# remove the unwanted files (there's probably a faster way to do this)\n",
    "file_list.remove('.ipynb_checkpoints')\n",
    "file_list.remove('.DS_Store')"
   ]
  },
  {
   "cell_type": "code",
   "execution_count": 9,
   "id": "b517c8ba-8260-45c0-9038-bb424799eef2",
   "metadata": {
    "scrolled": true
   },
   "outputs": [],
   "source": [
    "short_file_list = [\n",
    "    'temp_lat=70_long=-70.csv', \n",
    "    'temp_lat=50_long=80.csv', \n",
    "    'temp_lat=50_long=-90.csv', \n",
    "    'temp_lat=20_long=80.csv',\n",
    "    'temp_lat=60_long=130.csv'\n",
    "]"
   ]
  },
  {
   "cell_type": "code",
   "execution_count": null,
   "id": "8a1f0efc-92e5-41b8-9fcd-b85116cbeb18",
   "metadata": {},
   "outputs": [],
   "source": [
    "## this cell takes a LONG time to run\n",
    "\n",
    "#status_notes = []\n",
    "#cold_events = []\n",
    "#heat_events = []\n",
    "#\n",
    "#data_directory = '../data/processed/daily_temperature_grid'\n",
    "\n",
    "#for file in short_file_list:\n",
    "#    data = pd.read_csv('../data/processed/daily_temperature_grid/' + file).drop(columns=['Unnamed: 0'])\n",
    "    \n",
    "#    status_entry = {}\n",
    "#    lat = int(data.loc[0,'latitude'])\n",
    "#    long = int(data.loc[0,'longitude'])\n",
    "\n",
    "#    try: \n",
    "#        cold_waves, heat_waves = find_extreme_temp_events(data)\n",
    "\n",
    "        # record final dataframe\n",
    "        #file_path = f\"../data/processed/temp_events_grid/temp_waves_lat={lat}_long={long}.csv\"\n",
    "        #final_data[(final_data['is_heat_wave'] == True) | (final_data['is_cold_wave']==True)].to_csv(file_path)\n",
    "#        cold_events.append(cold_waves)\n",
    "#        heat_events.append(heat_waves)\n",
    "        \n",
    "#    except:\n",
    "#        status_entry = {\n",
    "#            'latitude': int(data.loc[0,'latitude']), \n",
    "#            'longitude': int(data.loc[0,'longitude']), \n",
    "#            'status': 'error occurred', \n",
    "#            'file': file\n",
    "#        }\n",
    "#        print(status_entry)\n",
    "        \n",
    "#        status_notes.append(status_entry)"
   ]
  },
  {
   "cell_type": "code",
   "execution_count": 20,
   "id": "1bd6c10c-1fbb-43af-b0bd-fb9721e69e74",
   "metadata": {},
   "outputs": [],
   "source": [
    "## example of prior cell with fewer files  :-)\n",
    "\n",
    "status_notes = []\n",
    "cold_events = []\n",
    "heat_events = []\n",
    "\n",
    "data_directory = '../data/processed/daily_temperature_grid/'\n",
    "\n",
    "for file in short_file_list:\n",
    "    data = pd.read_csv('../data/processed/daily_temperature_grid/' + file).drop(columns=['Unnamed: 0'])\n",
    "    \n",
    "    status_entry = {}\n",
    "    lat = int(data.loc[0,'latitude'])\n",
    "    long = int(data.loc[0,'longitude'])\n",
    "\n",
    "    try: \n",
    "        cold_waves, heat_waves = find_extreme_temp_events(data)\n",
    "\n",
    "        # record final dataframe\n",
    "        #file_path = f\"../data/processed/temp_events_grid/temp_waves_lat={lat}_long={long}.csv\"\n",
    "        #final_data[(final_data['is_heat_wave'] == True) | (final_data['is_cold_wave']==True)].to_csv(file_path)\n",
    "        cold_events.append(cold_waves)\n",
    "        heat_events.append(heat_waves)\n",
    "        \n",
    "    except:\n",
    "        status_entry = {\n",
    "            'latitude': int(data.loc[0,'latitude']), \n",
    "            'longitude': int(data.loc[0,'longitude']), \n",
    "            'status': 'error occurred', \n",
    "            'file': file\n",
    "        }\n",
    "        print(status_entry)\n",
    "        \n",
    "        status_notes.append(status_entry)\n",
    "\n",
    "extreme_cold = pd.concat(cold_events).reset_index(drop=True)\n",
    "extreme_heat = pd.concat(heat_events).reset_index(drop=True)"
   ]
  },
  {
   "cell_type": "code",
   "execution_count": 22,
   "id": "07117865-f807-47c5-add4-7f947e6a9383",
   "metadata": {},
   "outputs": [],
   "source": [
    "# extreme_cold.to_csv('../data/final/cold_events_final.csv')"
   ]
  },
  {
   "cell_type": "code",
   "execution_count": 23,
   "id": "aa7b1b9c-3e5c-4ddc-855d-7c87e93c1a75",
   "metadata": {},
   "outputs": [],
   "source": [
    "extreme_heat.to_csv('../data/final/heat_events_final.csv')"
   ]
  },
  {
   "cell_type": "markdown",
   "id": "52d14448-b1c9-48c1-b79b-7c7c97c2794d",
   "metadata": {},
   "source": [
    "These datasets are now ready to be modeled."
   ]
  }
 ],
 "metadata": {
  "kernelspec": {
   "display_name": "Python 3 (ipykernel)",
   "language": "python",
   "name": "python3"
  },
  "language_info": {
   "codemirror_mode": {
    "name": "ipython",
    "version": 3
   },
   "file_extension": ".py",
   "mimetype": "text/x-python",
   "name": "python",
   "nbconvert_exporter": "python",
   "pygments_lexer": "ipython3",
   "version": "3.11.9"
  }
 },
 "nbformat": 4,
 "nbformat_minor": 5
}
