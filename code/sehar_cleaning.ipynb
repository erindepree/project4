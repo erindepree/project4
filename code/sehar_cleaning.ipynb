{
 "cells": [
  {
   "cell_type": "markdown",
   "id": "1053ca4b-5dca-4041-9297-37e9c2ebf383",
   "metadata": {},
   "source": [
    "# Project 4\n",
    "## Emdat Extreme Temp 1900-2025\n",
    "## Data Cleaning & EDA"
   ]
  },
  {
   "cell_type": "code",
   "execution_count": null,
   "id": "d86df097-9013-489e-a1d4-b0d545107edd",
   "metadata": {},
   "outputs": [],
   "source": []
  }
 ],
 "metadata": {
  "kernelspec": {
   "display_name": "Python 3 (ipykernel)",
   "language": "python",
   "name": "python3"
  },
  "language_info": {
   "codemirror_mode": {
    "name": "ipython",
    "version": 3
   },
   "file_extension": ".py",
   "mimetype": "text/x-python",
   "name": "python",
   "nbconvert_exporter": "python",
   "pygments_lexer": "ipython3",
   "version": "3.11.9"
  }
 },
 "nbformat": 4,
 "nbformat_minor": 5
}
